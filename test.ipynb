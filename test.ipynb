{
 "cells": [
  {
   "cell_type": "code",
   "execution_count": 1,
   "metadata": {},
   "outputs": [],
   "source": [
    "#use this file to train the ML Model\n",
    "from sklearn import svm\n",
    "from nltk.corpus import wordnet as wn\n",
    "from sklearn.feature_extraction.text import TfidfVectorizer\n",
    "import pandas as pd\n"
   ]
  },
  {
   "cell_type": "code",
   "execution_count": 4,
   "metadata": {},
   "outputs": [
    {
     "name": "stdout",
     "output_type": "stream",
     "text": [
      "  (0, 75)\t0.2656191249746417\n",
      "  (0, 72)\t0.2656191249746417\n",
      "  (0, 30)\t0.2656191249746417\n",
      "  (0, 126)\t0.2656191249746417\n",
      "  (0, 70)\t0.2656191249746417\n",
      "  (0, 123)\t0.2656191249746417\n",
      "  (0, 28)\t0.2656191249746417\n",
      "  (0, 160)\t0.2656191249746417\n",
      "  (0, 27)\t0.2656191249746417\n",
      "  (0, 162)\t0.11068299900111099\n",
      "  (0, 64)\t0.2656191249746417\n",
      "  (0, 124)\t0.2656191249746417\n",
      "  (0, 178)\t0.2656191249746417\n",
      "  (0, 106)\t0.2656191249746417\n",
      "  (0, 177)\t0.2656191249746417\n",
      "                                                   0\n",
      "0    (0, 75)\\t0.2656191249746417\\n  (0, 72)\\t0.26...\n",
      "1    (0, 38)\\t0.31687643878014893\\n  (0, 101)\\t0....\n",
      "2    (0, 79)\\t0.4024662272235082\\n  (0, 39)\\t0.40...\n",
      "3    (0, 146)\\t0.31907100849506326\\n  (0, 112)\\t0...\n",
      "4    (0, 113)\\t0.48380486237631076\\n  (0, 68)\\t0....\n"
     ]
    }
   ],
   "source": [
    "corpus = list()\n",
    "f = open('./tissue1.txt',mode='r')\n",
    "\n",
    "for line in f:\n",
    "    corpus.append(line)\n",
    "\n",
    "vectorizor = TfidfVectorizer(stop_words='english')\n",
    "bruh = vectorizor.fit_transform(corpus)\n",
    "print(bruh.shape)"
   ]
  }
 ],
 "metadata": {
  "kernelspec": {
   "display_name": "NLP",
   "language": "python",
   "name": "python3"
  },
  "language_info": {
   "codemirror_mode": {
    "name": "ipython",
    "version": 3
   },
   "file_extension": ".py",
   "mimetype": "text/x-python",
   "name": "python",
   "nbconvert_exporter": "python",
   "pygments_lexer": "ipython3",
   "version": "3.9.16"
  },
  "orig_nbformat": 4,
  "vscode": {
   "interpreter": {
    "hash": "fa13c8bf462d9ca6c343766d10c192e8344c05f4a33c3a4ad93b0e2745d98890"
   }
  }
 },
 "nbformat": 4,
 "nbformat_minor": 2
}
